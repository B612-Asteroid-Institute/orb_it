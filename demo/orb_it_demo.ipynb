{
 "cells": [
  {
   "cell_type": "code",
   "execution_count": 1,
   "id": "d6e4daf3-86a3-4682-9b47-2d4df33a23b7",
   "metadata": {},
   "outputs": [],
   "source": [
    "from orb_it.backend import PYOORB,FINDORB\n",
    "from orb_it.raiden import Orbits, getOrbHorizons,loadOrb\n",
    "from orb_it.tester import runTest\n",
    "import numpy as np\n",
    "import pandas as pd"
   ]
  },
  {
   "cell_type": "markdown",
   "id": "060171b5-852b-442f-a687-da9f2304c571",
   "metadata": {},
   "source": [
    "# `orb_it` Demo\n",
    "\n",
    "Here are the general steps of this tester,\n",
    "\n",
    "1. Take in initial orbit at a specified t0 time.\n",
    "2. Generate Ephemeris observations using an integrator from the initial orbit over the time scale term supplied.\n",
    "3. Determine the orbit from the Ephemeris observations with the integrator to get the orbital state vectors at the final time of the time scale.\n",
    "4. Propagate the initial orbit using the integrator to the final time.\n",
    "5. Compare the orbit's state vectors from step 3 to the orbit vectors from step 4.\n",
    "---\n",
    "## Importing Orbit Data\n",
    "First we need to import the initial orbit data (state vector and time). We can use either `loadOrb()` to load from a local csv or pandas DataFrame or `getOrbHorizons()` to query JPL Horizons for the data. Both functions give the same orbit object."
   ]
  },
  {
   "cell_type": "code",
   "execution_count": 2,
   "id": "8b111701-7eb5-442e-866b-448ca9630bb4",
   "metadata": {},
   "outputs": [
    {
     "data": {
      "text/html": [
       "<div>\n",
       "<style scoped>\n",
       "    .dataframe tbody tr th:only-of-type {\n",
       "        vertical-align: middle;\n",
       "    }\n",
       "\n",
       "    .dataframe tbody tr th {\n",
       "        vertical-align: top;\n",
       "    }\n",
       "\n",
       "    .dataframe thead th {\n",
       "        text-align: right;\n",
       "    }\n",
       "</style>\n",
       "<table border=\"1\" class=\"dataframe\">\n",
       "  <thead>\n",
       "    <tr style=\"text-align: right;\">\n",
       "      <th></th>\n",
       "      <th>orbit_id</th>\n",
       "      <th>mjd_tdb</th>\n",
       "      <th>x</th>\n",
       "      <th>y</th>\n",
       "      <th>z</th>\n",
       "      <th>vx</th>\n",
       "      <th>vy</th>\n",
       "      <th>vz</th>\n",
       "      <th>H</th>\n",
       "      <th>G</th>\n",
       "    </tr>\n",
       "  </thead>\n",
       "  <tbody>\n",
       "    <tr>\n",
       "      <th>0</th>\n",
       "      <td>202930 Ivezic (1998 SG172)</td>\n",
       "      <td>59000.000801</td>\n",
       "      <td>0.568687</td>\n",
       "      <td>-2.49376</td>\n",
       "      <td>-0.182298</td>\n",
       "      <td>0.010407</td>\n",
       "      <td>0.003676</td>\n",
       "      <td>0.000483</td>\n",
       "      <td>16.65</td>\n",
       "      <td>0.15</td>\n",
       "    </tr>\n",
       "  </tbody>\n",
       "</table>\n",
       "</div>"
      ],
      "text/plain": [
       "                     orbit_id       mjd_tdb         x        y         z  \\\n",
       "0  202930 Ivezic (1998 SG172)  59000.000801  0.568687 -2.49376 -0.182298   \n",
       "\n",
       "         vx        vy        vz      H     G  \n",
       "0  0.010407  0.003676  0.000483  16.65  0.15  "
      ]
     },
     "execution_count": 2,
     "metadata": {},
     "output_type": "execute_result"
    }
   ],
   "source": [
    "#Importing Locally\n",
    "orbits = loadOrb('orbits2.csv')\n",
    "# Ivezic is the first object in the table\n",
    "ivezic = orbits[0]\n",
    "# We can show it as a DataFrame with .df attribute\n",
    "ivezic.df"
   ]
  },
  {
   "cell_type": "markdown",
   "id": "740799e2-bdca-47d1-b148-80850a481d1a",
   "metadata": {},
   "source": [
    "## Running the Test"
   ]
  },
  {
   "cell_type": "code",
   "execution_count": 3,
   "id": "d8ad9472-7810-4b7a-a683-f64d10cd7416",
   "metadata": {},
   "outputs": [
    {
     "data": {
      "text/html": [
       "<div>\n",
       "<style scoped>\n",
       "    .dataframe tbody tr th:only-of-type {\n",
       "        vertical-align: middle;\n",
       "    }\n",
       "\n",
       "    .dataframe tbody tr th {\n",
       "        vertical-align: top;\n",
       "    }\n",
       "\n",
       "    .dataframe thead th {\n",
       "        text-align: right;\n",
       "    }\n",
       "</style>\n",
       "<table border=\"1\" class=\"dataframe\">\n",
       "  <thead>\n",
       "    <tr style=\"text-align: right;\">\n",
       "      <th></th>\n",
       "      <th>orbit_id</th>\n",
       "      <th>integrator</th>\n",
       "      <th>observatory_code</th>\n",
       "      <th>arc_length [days]</th>\n",
       "      <th>num_obs</th>\n",
       "      <th>epoch [mjd]</th>\n",
       "      <th>delta epoch [mjd]</th>\n",
       "      <th>astrometric_error [mas]</th>\n",
       "      <th>delta r [km]</th>\n",
       "      <th>delta v [m/s]</th>\n",
       "      <th>delta x [km]</th>\n",
       "      <th>delta y [km]</th>\n",
       "      <th>delta z [km]</th>\n",
       "      <th>delta vx [m/s]</th>\n",
       "      <th>delta vy [m/s]</th>\n",
       "      <th>delta vz [m/s]</th>\n",
       "    </tr>\n",
       "  </thead>\n",
       "  <tbody>\n",
       "    <tr>\n",
       "      <th>0</th>\n",
       "      <td>202930 Ivezic (1998 SG172)</td>\n",
       "      <td>OpenOrb</td>\n",
       "      <td>500</td>\n",
       "      <td>29.0</td>\n",
       "      <td>30</td>\n",
       "      <td>59015.0</td>\n",
       "      <td>0.0</td>\n",
       "      <td>0</td>\n",
       "      <td>2.54846</td>\n",
       "      <td>0.001093</td>\n",
       "      <td>-1.272749</td>\n",
       "      <td>2.190659</td>\n",
       "      <td>0.275263</td>\n",
       "      <td>0.000581</td>\n",
       "      <td>-0.000921</td>\n",
       "      <td>-0.000093</td>\n",
       "    </tr>\n",
       "  </tbody>\n",
       "</table>\n",
       "</div>"
      ],
      "text/plain": [
       "                     orbit_id integrator observatory_code  arc_length [days]  \\\n",
       "0  202930 Ivezic (1998 SG172)    OpenOrb              500               29.0   \n",
       "\n",
       "   num_obs  epoch [mjd]  delta epoch [mjd]  astrometric_error [mas]  \\\n",
       "0       30      59015.0                0.0                        0   \n",
       "\n",
       "   delta r [km]  delta v [m/s]  delta x [km]  delta y [km]  delta z [km]  \\\n",
       "0       2.54846       0.001093     -1.272749      2.190659      0.275263   \n",
       "\n",
       "   delta vx [m/s]  delta vy [m/s]  delta vz [m/s]  \n",
       "0        0.000581       -0.000921       -0.000093  "
      ]
     },
     "execution_count": 3,
     "metadata": {},
     "output_type": "execute_result"
    }
   ],
   "source": [
    "runTest(orbits[0],'500',[np.arange(0,30,1)],PYOORB())"
   ]
  },
  {
   "cell_type": "code",
   "execution_count": 4,
   "id": "a9b06831-2d48-4395-82a1-b6b78a936c0e",
   "metadata": {},
   "outputs": [
    {
     "data": {
      "text/html": [
       "<div>\n",
       "<style scoped>\n",
       "    .dataframe tbody tr th:only-of-type {\n",
       "        vertical-align: middle;\n",
       "    }\n",
       "\n",
       "    .dataframe tbody tr th {\n",
       "        vertical-align: top;\n",
       "    }\n",
       "\n",
       "    .dataframe thead th {\n",
       "        text-align: right;\n",
       "    }\n",
       "</style>\n",
       "<table border=\"1\" class=\"dataframe\">\n",
       "  <thead>\n",
       "    <tr style=\"text-align: right;\">\n",
       "      <th></th>\n",
       "      <th>orbit_id</th>\n",
       "      <th>integrator</th>\n",
       "      <th>observatory_code</th>\n",
       "      <th>arc_length [days]</th>\n",
       "      <th>num_obs</th>\n",
       "      <th>epoch [mjd]</th>\n",
       "      <th>delta epoch [mjd]</th>\n",
       "      <th>astrometric_error [mas]</th>\n",
       "      <th>delta r [km]</th>\n",
       "      <th>delta v [m/s]</th>\n",
       "      <th>delta x [km]</th>\n",
       "      <th>delta y [km]</th>\n",
       "      <th>delta z [km]</th>\n",
       "      <th>delta vx [m/s]</th>\n",
       "      <th>delta vy [m/s]</th>\n",
       "      <th>delta vz [m/s]</th>\n",
       "    </tr>\n",
       "  </thead>\n",
       "  <tbody>\n",
       "    <tr>\n",
       "      <th>0</th>\n",
       "      <td>202930 Ivezic (1998 SG172)</td>\n",
       "      <td>FindOrb</td>\n",
       "      <td>500</td>\n",
       "      <td>29.0</td>\n",
       "      <td>30</td>\n",
       "      <td>59029.0008</td>\n",
       "      <td>9.997748e-07</td>\n",
       "      <td>0</td>\n",
       "      <td>0.418919</td>\n",
       "      <td>0.00002</td>\n",
       "      <td>-0.375304</td>\n",
       "      <td>-0.184875</td>\n",
       "      <td>-0.021482</td>\n",
       "      <td>0.000007</td>\n",
       "      <td>-0.000019</td>\n",
       "      <td>-0.000001</td>\n",
       "    </tr>\n",
       "  </tbody>\n",
       "</table>\n",
       "</div>"
      ],
      "text/plain": [
       "                     orbit_id integrator observatory_code  arc_length [days]  \\\n",
       "0  202930 Ivezic (1998 SG172)    FindOrb              500               29.0   \n",
       "\n",
       "   num_obs  epoch [mjd]  delta epoch [mjd]  astrometric_error [mas]  \\\n",
       "0       30   59029.0008       9.997748e-07                        0   \n",
       "\n",
       "   delta r [km]  delta v [m/s]  delta x [km]  delta y [km]  delta z [km]  \\\n",
       "0      0.418919        0.00002     -0.375304     -0.184875     -0.021482   \n",
       "\n",
       "   delta vx [m/s]  delta vy [m/s]  delta vz [m/s]  \n",
       "0        0.000007       -0.000019       -0.000001  "
      ]
     },
     "execution_count": 4,
     "metadata": {},
     "output_type": "execute_result"
    }
   ],
   "source": [
    "runTest(orbits[0],'500',[np.arange(0,30,1)],FINDORB())"
   ]
  },
  {
   "cell_type": "code",
   "execution_count": 5,
   "id": "a33f6c35-7af9-4687-b354-1309cc4f9d03",
   "metadata": {},
   "outputs": [
    {
     "data": {
      "text/html": [
       "<div>\n",
       "<style scoped>\n",
       "    .dataframe tbody tr th:only-of-type {\n",
       "        vertical-align: middle;\n",
       "    }\n",
       "\n",
       "    .dataframe tbody tr th {\n",
       "        vertical-align: top;\n",
       "    }\n",
       "\n",
       "    .dataframe thead th {\n",
       "        text-align: right;\n",
       "    }\n",
       "</style>\n",
       "<table border=\"1\" class=\"dataframe\">\n",
       "  <thead>\n",
       "    <tr style=\"text-align: right;\">\n",
       "      <th></th>\n",
       "      <th>orbit_id</th>\n",
       "      <th>integrator</th>\n",
       "      <th>observatory_code</th>\n",
       "      <th>arc_length [days]</th>\n",
       "      <th>num_obs</th>\n",
       "      <th>epoch [mjd]</th>\n",
       "      <th>delta epoch [mjd]</th>\n",
       "      <th>astrometric_error [mas]</th>\n",
       "      <th>delta r [km]</th>\n",
       "      <th>delta v [m/s]</th>\n",
       "      <th>delta x [km]</th>\n",
       "      <th>delta y [km]</th>\n",
       "      <th>delta z [km]</th>\n",
       "      <th>delta vx [m/s]</th>\n",
       "      <th>delta vy [m/s]</th>\n",
       "      <th>delta vz [m/s]</th>\n",
       "    </tr>\n",
       "  </thead>\n",
       "  <tbody>\n",
       "    <tr>\n",
       "      <th>0</th>\n",
       "      <td>202930 Ivezic (1998 SG172)</td>\n",
       "      <td>OpenOrb</td>\n",
       "      <td>I11</td>\n",
       "      <td>29.0</td>\n",
       "      <td>30</td>\n",
       "      <td>59015.0</td>\n",
       "      <td>0.0</td>\n",
       "      <td>0</td>\n",
       "      <td>3.07407</td>\n",
       "      <td>0.001309</td>\n",
       "      <td>-1.535385</td>\n",
       "      <td>2.64246</td>\n",
       "      <td>0.331524</td>\n",
       "      <td>0.000696</td>\n",
       "      <td>-0.001103</td>\n",
       "      <td>-0.000112</td>\n",
       "    </tr>\n",
       "  </tbody>\n",
       "</table>\n",
       "</div>"
      ],
      "text/plain": [
       "                     orbit_id integrator observatory_code  arc_length [days]  \\\n",
       "0  202930 Ivezic (1998 SG172)    OpenOrb              I11               29.0   \n",
       "\n",
       "   num_obs  epoch [mjd]  delta epoch [mjd]  astrometric_error [mas]  \\\n",
       "0       30      59015.0                0.0                        0   \n",
       "\n",
       "   delta r [km]  delta v [m/s]  delta x [km]  delta y [km]  delta z [km]  \\\n",
       "0       3.07407       0.001309     -1.535385       2.64246      0.331524   \n",
       "\n",
       "   delta vx [m/s]  delta vy [m/s]  delta vz [m/s]  \n",
       "0        0.000696       -0.001103       -0.000112  "
      ]
     },
     "execution_count": 5,
     "metadata": {},
     "output_type": "execute_result"
    }
   ],
   "source": [
    "runTest(orbits[0],'I11',[np.arange(0,30,1)],PYOORB())"
   ]
  },
  {
   "cell_type": "markdown",
   "id": "1888e858-88f6-4a99-b63d-f78081098578",
   "metadata": {},
   "source": [
    "NOTE: Will add more features to this demo when I get more time in the future!"
   ]
  }
 ],
 "metadata": {
  "kernelspec": {
   "display_name": "Python [conda env:aidan2]",
   "language": "python",
   "name": "conda-env-aidan2-py"
  },
  "language_info": {
   "codemirror_mode": {
    "name": "ipython",
    "version": 3
   },
   "file_extension": ".py",
   "mimetype": "text/x-python",
   "name": "python",
   "nbconvert_exporter": "python",
   "pygments_lexer": "ipython3",
   "version": "3.9.7"
  }
 },
 "nbformat": 4,
 "nbformat_minor": 5
}
